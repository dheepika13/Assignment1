{
 "cells": [
  {
   "cell_type": "code",
   "execution_count": 1,
   "id": "d38d7e3c",
   "metadata": {},
   "outputs": [],
   "source": [
    "#NAME:DHEEPIKA.I\n",
    "#REG NO:21UAI023"
   ]
  },
  {
   "cell_type": "code",
   "execution_count": 2,
   "id": "f89e8eac",
   "metadata": {},
   "outputs": [
    {
     "name": "stdout",
     "output_type": "stream",
     "text": [
      "\n",
      "*\t\n",
      "*\t*\t\n",
      "*\t*\t*\t\n",
      "*\t*\t*\t*\t\n",
      "*\t*\t*\t*\t*\t\n"
     ]
    }
   ],
   "source": [
    "#11\n",
    "i=1\n",
    "while i<=6:\n",
    "    for j in range(1,i):\n",
    "        print(\"*\",end='\\t')\n",
    "    print(end='\\n')\n",
    "    i+=1"
   ]
  },
  {
   "cell_type": "code",
   "execution_count": 3,
   "id": "72f430a1",
   "metadata": {},
   "outputs": [
    {
     "name": "stdout",
     "output_type": "stream",
     "text": [
      "Remove the characters from a string\n",
      "Original string: Entertainment\n",
      "Entertainment\n"
     ]
    }
   ],
   "source": [
    "#12\n",
    "def remove_char(string, n):\n",
    "    print(\"Original string:\", string)\n",
    "    a = string[n:]\n",
    "    return string\n",
    "\n",
    "print(\"Remove the characters from a string\")\n",
    "print(remove_char(\"Entertainment\", 6))"
   ]
  },
  {
   "cell_type": "code",
   "execution_count": 4,
   "id": "bcde886b",
   "metadata": {},
   "outputs": [
    {
     "name": "stdout",
     "output_type": "stream",
     "text": [
      "Enter the number5\n",
      "Enter the number15\n",
      "Enter the number24\n",
      "Enter the number42\n",
      "Enter the number78\n",
      "5\n",
      "15\n"
     ]
    }
   ],
   "source": [
    "#13\n",
    "nums = []\n",
    "for i in range(5):\n",
    "    num=int(input(\"Enter the number\"))\n",
    "    nums.append(num)\n",
    "    \n",
    "for i in nums:\n",
    "    if i%5 == 0:\n",
    "        print(i)"
   ]
  },
  {
   "cell_type": "code",
   "execution_count": 91,
   "id": "bb4c82c2",
   "metadata": {},
   "outputs": [
    {
     "name": "stdout",
     "output_type": "stream",
     "text": [
      "3\n"
     ]
    }
   ],
   "source": [
    "#14\n",
    "strings=[\"hi\",\"hi\",\"hi\",\"hello\"]\n",
    "count=strings.count(\"hi\")\n",
    "\n",
    "print(count)"
   ]
  },
  {
   "cell_type": "code",
   "execution_count": 19,
   "id": "8a6f354d",
   "metadata": {},
   "outputs": [
    {
     "name": "stdout",
     "output_type": "stream",
     "text": [
      "\n",
      "1\n",
      "22\n",
      "333\n",
      "4444\n",
      "55555\n"
     ]
    }
   ],
   "source": [
    "#15\n",
    "for i in range(6):\n",
    "    for j in range(i):\n",
    "        print(i,end='')\n",
    "    print('')"
   ]
  },
  {
   "cell_type": "code",
   "execution_count": 21,
   "id": "00b4d633",
   "metadata": {},
   "outputs": [
    {
     "name": "stdout",
     "output_type": "stream",
     "text": [
      "Initial List :  [35, 78, 15, 69, 97]\n",
      "List after Swapping :  [97, 78, 15, 69, 35]\n"
     ]
    }
   ],
   "source": [
    "#17.list\n",
    "List = [35,78,15,69,97]\n",
    "print(\"Initial List : \",List)\n",
    "length = len(List)\n",
    "temp = List[0]\n",
    "List[0] = List[length - 1]\n",
    "List[length - 1] = temp\n",
    "print(\"List after Swapping : \", List)"
   ]
  },
  {
   "cell_type": "code",
   "execution_count": 31,
   "id": "2f17f6dd",
   "metadata": {},
   "outputs": [
    {
     "name": "stdout",
     "output_type": "stream",
     "text": [
      "[4, 2, 3, 1]\n"
     ]
    }
   ],
   "source": [
    "#18.list\n",
    "def swapPositions(list,pos1,pos2):\n",
    "    \n",
    "    list[pos1],List[pos2] = list[pos2],list[pos1]\n",
    "    return list\n",
    " \n",
    "List = [1,2,3,4\n",
    "pos1,pos2  = 1,4\n",
    " \n",
    "print(swapPositions(List, pos1-1, pos2-1))"
   ]
  },
  {
   "cell_type": "code",
   "execution_count": 32,
   "id": "edecc53f",
   "metadata": {},
   "outputs": [
    {
     "data": {
      "text/plain": [
       "6"
      ]
     },
     "execution_count": 32,
     "metadata": {},
     "output_type": "execute_result"
    }
   ],
   "source": [
    "#19.list\n",
    "mylist=[10,20,30,40,50,60]\n",
    "len(mylist)"
   ]
  },
  {
   "cell_type": "code",
   "execution_count": 35,
   "id": "56bfad17",
   "metadata": {},
   "outputs": [
    {
     "name": "stdout",
     "output_type": "stream",
     "text": [
      "45\n"
     ]
    }
   ],
   "source": [
    "#21.list\n",
    "def max(x,y):\n",
    "    if x>y:\n",
    "        return x\n",
    "    else:\n",
    "        return y\n",
    "        \n",
    "x=45\n",
    "y=14\n",
    "print(max(x,y))"
   ]
  },
  {
   "cell_type": "code",
   "execution_count": 36,
   "id": "14533cdf",
   "metadata": {},
   "outputs": [
    {
     "name": "stdout",
     "output_type": "stream",
     "text": [
      "10\n"
     ]
    }
   ],
   "source": [
    "#22.list\n",
    "def min(x,y):\n",
    "    if(x<y):\n",
    "        return x\n",
    "    else:\n",
    "        return y\n",
    "    \n",
    "x=17\n",
    "y=10\n",
    "print(min(x,y))"
   ]
  },
  {
   "cell_type": "code",
   "execution_count": 38,
   "id": "9d1775e2",
   "metadata": {},
   "outputs": [
    {
     "name": "stdout",
     "output_type": "stream",
     "text": [
      "Dheepika String is not symmetrical\n",
      "Dheepika String is not palimdrome\n"
     ]
    }
   ],
   "source": [
    "#22.string\n",
    "str=\"Dheepika\"\n",
    "half = int(len(str) / 2)\n",
    " \n",
    "if len(str) % 2 == 0:  \n",
    "    first_str = str[:half]\n",
    "    second_str = str[half:]\n",
    "else:  \n",
    "    first_str = str[:half]\n",
    "    second_str = str[half+1:]\n",
    "if first_str == second_str:\n",
    "    print(str,\"String is symmetrical\")\n",
    "else:\n",
    "    print(str,\"String is not symmetrical\")\n",
    "if first_str == second_str[::-1]: \n",
    "    print(str,\"String is palinadrome\")\n",
    "else:\n",
    "    print(str,\"String is not palimdrome\")\n"
   ]
  },
  {
   "cell_type": "code",
   "execution_count": 45,
   "id": "ea676901",
   "metadata": {},
   "outputs": [
    {
     "name": "stdout",
     "output_type": "stream",
     "text": [
      "DheepikaisnameMy\n"
     ]
    }
   ],
   "source": [
    "#23.string\n",
    "string = \"My name is Dheepika\"\n",
    "s = string.split()[::-1]\n",
    "l = []\n",
    "for i in s:\n",
    "   l.append(i)\n",
    "\n",
    "print(\"\".join(l))"
   ]
  },
  {
   "cell_type": "code",
   "execution_count": 47,
   "id": "4c0060da",
   "metadata": {},
   "outputs": [
    {
     "name": "stdout",
     "output_type": "stream",
     "text": [
      "The original string is : hello\n",
      "The string after removal of i'th character : helo\n"
     ]
    }
   ],
   "source": [
    "#24.string\n",
    "str = \"hello\" \n",
    "print (\"The original string is : \" +str)\n",
    "new_str = \"\"\n",
    "for i in range(len(str)):\n",
    "    if i != 2:\n",
    "        new_str = new_str + str[i] \n",
    "print (\"The string after removal of i'th character : \" +new_str)"
   ]
  },
  {
   "cell_type": "code",
   "execution_count": 50,
   "id": "f96e1512",
   "metadata": {},
   "outputs": [
    {
     "name": "stdout",
     "output_type": "stream",
     "text": [
      "Length of tuple :  5\n"
     ]
    }
   ],
   "source": [
    "#27.tuple\n",
    "tuple=('a','c','e','g','i')\n",
    "print(\"Length of tuple : \",len(tuple))"
   ]
  },
  {
   "cell_type": "code",
   "execution_count": 40,
   "id": "f618a57a",
   "metadata": {},
   "outputs": [
    {
     "name": "stdout",
     "output_type": "stream",
     "text": [
      "Tuple :  (10, 15, 20, 25, 3, 89, 12, 45)\n",
      "K maximum and minimum values :  [3, 10, 45, 89]\n"
     ]
    }
   ],
   "source": [
    "#28.tuple\n",
    "Tuple = (10, 15, 20, 25, 3, 89, 12, 45)\n",
    "K = 2\n",
    "sortedlist = sorted(list(Tuple))\n",
    "vals = []\n",
    "for i in range(K):\n",
    "    vals.append(sortedlist[i])\n",
    "    \n",
    "for i in range((len(sortedlist) - K), len(sortedlist)):\n",
    "    vals.append(sortedlist[i])\n",
    "\n",
    "    \n",
    "print(\"Tuple : \", str(Tuple))\n",
    "print(\"K maximum and minimum values : \", str(vals))"
   ]
  },
  {
   "cell_type": "code",
   "execution_count": 32,
   "id": "c189b9f8",
   "metadata": {},
   "outputs": [
    {
     "name": "stdout",
     "output_type": "stream",
     "text": [
      "Tuple Items =  (73, 59, 13, 86, 10, 28)\n",
      "\n",
      "The Sum of numTuple Tuple Items =  269\n"
     ]
    }
   ],
   "source": [
    "#29.tuple\n",
    "Tuplen = (73, 59, 13, 86, 10, 28)\n",
    "print(\"Tuple Items = \",Tuplen)\n",
    "tupleSum = sum(Tuplen)\n",
    "print(\"\\nThe Sum of numTuple Tuple Items = \", tupleSum)"
   ]
  },
  {
   "cell_type": "code",
   "execution_count": 70,
   "id": "56fde7ba",
   "metadata": {},
   "outputs": [
    {
     "name": "stdout",
     "output_type": "stream",
     "text": [
      "Task 1:\n",
      "\n",
      "Key_value {0: 66, 1: 11, 2: 70, 3: 24, 4: 98, 5: 37}\n",
      "0 1 2 3 4 5 "
     ]
    }
   ],
   "source": [
    "#32.dict\n",
    "def dictionary():\n",
    "    key_value = {}\n",
    "    key_value[0] = 66\n",
    "    key_value[1] = 11\n",
    "    key_value[2] = 70\n",
    "    key_value[3] = 24\n",
    "    key_value[4] = 98\n",
    "    key_value[5] = 37\n",
    "    print(\"Task 1:\\n\")\n",
    "    print(\"Key_value\", key_value)\n",
    "    for i in sorted(key_value.keys()):\n",
    "        print(i, end=\" \")\n",
    " \n",
    " \n",
    "def main():\n",
    "    \n",
    "    dictionary()\n",
    "if __name__ == \"__main__\":\n",
    "    main()"
   ]
  },
  {
   "cell_type": "code",
   "execution_count": 92,
   "id": "d7ee7513",
   "metadata": {},
   "outputs": [
    {
     "name": "stdout",
     "output_type": "stream",
     "text": [
      "{(10, 25, 50): -15, (65, 24, 53): 36}\n"
     ]
    }
   ],
   "source": [
    "#33.dict\n",
    "import random as ran\n",
    "dict = {}\n",
    "x, y, z = 10,25,50\n",
    "dict[x, y, z] = x+y-z;\n",
    "x, y, z = 65,24,53\n",
    "dict[x, y, z] = x+y-z;\n",
    "print(dict)"
   ]
  },
  {
   "cell_type": "code",
   "execution_count": 75,
   "id": "e0f2bd9a",
   "metadata": {},
   "outputs": [
    {
     "name": "stdout",
     "output_type": "stream",
     "text": [
      "Sum : 3240\n"
     ]
    }
   ],
   "source": [
    "#34.dict\n",
    "def returnSum(myDict):\n",
    " \n",
    "    list = []\n",
    "    for i in myDict:\n",
    "        list.append(myDict[i])\n",
    "    fsum= sum(list)\n",
    " \n",
    "    return fsum\n",
    "dict = {'a':500, 'b':1900, 'c':840}\n",
    "print(\"Sum :\", returnSum(dict))"
   ]
  },
  {
   "cell_type": "code",
   "execution_count": 80,
   "id": "04abe80c",
   "metadata": {},
   "outputs": [
    {
     "name": "stdout",
     "output_type": "stream",
     "text": [
      "Original set elements:\n",
      "{2, 3, 20, 5, 10, 15}\n",
      "\n",
      "Size of the set:\n",
      "6\n"
     ]
    }
   ],
   "source": [
    "#36.set\n",
    "set = {5, 10, 3, 15, 2, 20}\n",
    "print(\"Original set elements:\")\n",
    "print(set)\n",
    "print(\"\\nSize of the set:\")\n",
    "print(len(set))\n"
   ]
  },
  {
   "cell_type": "code",
   "execution_count": 81,
   "id": "a21b7c72",
   "metadata": {},
   "outputs": [
    {
     "name": "stdout",
     "output_type": "stream",
     "text": [
      "banana\n",
      "apple\n",
      "cherry\n"
     ]
    }
   ],
   "source": [
    "#37.set\n",
    "set={\"apple\",\"banana\",\"cherry\"}\n",
    "for i in set:\n",
    "    print(i)"
   ]
  },
  {
   "cell_type": "code",
   "execution_count": 88,
   "id": "3b78461f",
   "metadata": {},
   "outputs": [
    {
     "name": "stdout",
     "output_type": "stream",
     "text": [
      "Minimum Element in the list (65, 63, 58, 82, 76) is 58\n",
      "Maximum Element in the list (65, 63, 58, 82, 76) is 82\n"
     ]
    }
   ],
   "source": [
    "#38.set\n",
    "set=(65,63,58,82,76)\n",
    "min_ele,max_ele=set[0],set[0] \n",
    "for i in range(1,len(set)):\n",
    "    if set[i]<min_ele:\n",
    "        min_ele=set[i]\n",
    "    if set[i]>max_ele:\n",
    "        max_ele=set[i]\n",
    "print('Minimum Element in the list',set,'is',min_ele)\n",
    "print('Maximum Element in the list',set,'is',max_ele)\n",
    "\n"
   ]
  },
  {
   "cell_type": "code",
   "execution_count": 90,
   "id": "dcb475ca",
   "metadata": {},
   "outputs": [
    {
     "name": "stdout",
     "output_type": "stream",
     "text": [
      "{'chair', 'pillow', 'table'}\n"
     ]
    }
   ],
   "source": [
    "#39.set\n",
    "items={\"chair\",\"table\",\"hammer\",\"pillow\"}\n",
    "items.remove(\"hammer\")\n",
    "print(items)"
   ]
  },
  {
   "cell_type": "code",
   "execution_count": 3,
   "id": "72f6f712",
   "metadata": {},
   "outputs": [
    {
     "name": "stdout",
     "output_type": "stream",
     "text": [
      "Print the elements of first matrix M:\n",
      "[[56 77]\n",
      " [13 24]]\n",
      "Print the elements of second matrix N:\n",
      "[[64 92]\n",
      " [27 72]]\n",
      "Addition of the two matrix\n",
      "[[120 169]\n",
      " [ 40  96]]\n",
      "Subtraction of the matrix:\n",
      "[[ -8 -15]\n",
      " [-14 -48]]\n"
     ]
    }
   ],
   "source": [
    "#42.matrix\n",
    "import numpy as np\n",
    "M = np.array([[56, 77], [13, 24]])\n",
    "  \n",
    "N = np.array([[64, 92], [27, 72]])\n",
    "  \n",
    "print(\"Print the elements of first matrix M:\")\n",
    "print(M)\n",
    "print(\"Print the elements of second matrix N:\")\n",
    "print(N)\n",
    "  \n",
    "print(\"Addition of the two matrix\")\n",
    "print(np.add(M,N))\n",
    "print(\"Subtraction of the matrix:\")\n",
    "print(np.subtract(M,N))"
   ]
  },
  {
   "cell_type": "code",
   "execution_count": 7,
   "id": "c5f31e1c",
   "metadata": {},
   "outputs": [
    {
     "name": "stdout",
     "output_type": "stream",
     "text": [
      "The original list :[[6, 2, 7], [5, 10, 11], [4, 6, 14], [8, 7, 3]]\n",
      "The Assigned Matrix :{6: [5, 10, 11], 2: [4, 6, 14], 7: [8, 7, 3]}\n"
     ]
    }
   ],
   "source": [
    "#41.matrix\n",
    "thelist = [[6, 2, 7], [5, 10, 11], [4, 6, 14], [8, 7, 3]]\n",
    "print(\"The original list :\" + str(thelist))\n",
    "assign = {thelist[0][ele] :  thelist[ele + 1] for ele in range(len(thelist) -1)}\n",
    "print(\"The Assigned Matrix :\" + str(assign))"
   ]
  },
  {
   "cell_type": "code",
   "execution_count": 17,
   "id": "dc21a92d",
   "metadata": {},
   "outputs": [
    {
     "name": "stdout",
     "output_type": "stream",
     "text": [
      "['a', 'b', 'c']\n"
     ]
    }
   ],
   "source": [
    "#46.function\n",
    "import inspect \n",
    "def f(a, b ,c):\n",
    "    pass\n",
    "a_signature = inspect.signature(f)\n",
    "parameters = a_signature.parameters\n",
    "parameterlist = list(parameters)\n",
    "print(parameterlist)"
   ]
  },
  {
   "cell_type": "code",
   "execution_count": 24,
   "id": "d16fc027",
   "metadata": {},
   "outputs": [
    {
     "name": "stdout",
     "output_type": "stream",
     "text": [
      "My name,dept and section is : Dheepika AI&DS 1st year\n"
     ]
    }
   ],
   "source": [
    "#47.function\n",
    "def ABC(name,dept,year):\n",
    "    print(\"My name,dept and section is :\" ,name , dept , year)\n",
    "ABC (\"Dheepika\" ,\"AI&DS\" ,\"1st year\")"
   ]
  },
  {
   "cell_type": "code",
   "execution_count": null,
   "id": "122b48fb",
   "metadata": {},
   "outputs": [],
   "source": []
  }
 ],
 "metadata": {
  "kernelspec": {
   "display_name": "Python 3 (ipykernel)",
   "language": "python",
   "name": "python3"
  },
  "language_info": {
   "codemirror_mode": {
    "name": "ipython",
    "version": 3
   },
   "file_extension": ".py",
   "mimetype": "text/x-python",
   "name": "python",
   "nbconvert_exporter": "python",
   "pygments_lexer": "ipython3",
   "version": "3.9.12"
  }
 },
 "nbformat": 4,
 "nbformat_minor": 5
}
